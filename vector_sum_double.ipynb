{
  "nbformat": 4,
  "nbformat_minor": 0,
  "metadata": {
    "colab": {
      "name": "vector_sum_double.ipynb",
      "provenance": [],
      "collapsed_sections": [],
      "include_colab_link": true
    },
    "kernelspec": {
      "name": "python3",
      "display_name": "Python 3"
    },
    "language_info": {
      "name": "python"
    },
    "accelerator": "GPU"
  },
  "cells": [
    {
      "cell_type": "markdown",
      "metadata": {
        "id": "view-in-github",
        "colab_type": "text"
      },
      "source": [
        "<a href=\"https://colab.research.google.com/github/ramonlsaraiva/cuda_tests/blob/main/vector_sum_double.ipynb\" target=\"_parent\"><img src=\"https://colab.research.google.com/assets/colab-badge.svg\" alt=\"Open In Colab\"/></a>"
      ]
    },
    {
      "cell_type": "code",
      "metadata": {
        "id": "4ZDS_YvdZEFu",
        "colab": {
          "base_uri": "https://localhost:8080/"
        },
        "outputId": "1057fbd7-ceed-43de-e903-48f53fff7c1c"
      },
      "source": [
        "!pip install git+https://github.com/canesche/nvcc4jupyter.git\n",
        "!git clone https://github.com/canesche/nvcc4jupyter\n",
        "\n",
        "%load_ext nvcc_plugin\n",
        "!nvidia-smi"
      ],
      "execution_count": 3,
      "outputs": [
        {
          "output_type": "stream",
          "name": "stdout",
          "text": [
            "Collecting git+https://github.com/canesche/nvcc4jupyter.git\n",
            "  Cloning https://github.com/canesche/nvcc4jupyter.git to /tmp/pip-req-build-e0cwruc7\n",
            "  Running command git clone -q https://github.com/canesche/nvcc4jupyter.git /tmp/pip-req-build-e0cwruc7\n",
            "Building wheels for collected packages: ColabPlugin\n",
            "  Building wheel for ColabPlugin (setup.py) ... \u001b[?25l\u001b[?25hdone\n",
            "  Created wheel for ColabPlugin: filename=ColabPlugin-blind-py3-none-any.whl size=12727 sha256=741fcfd9d621187830a854e1114a4da0fb908c2a3b00eb931140dedb008154b9\n",
            "  Stored in directory: /tmp/pip-ephem-wheel-cache-wm9wczgu/wheels/06/76/5f/88825d3256ab9fe9e4386e23ad33a2c41a2e4dc94f0addff44\n",
            "\u001b[33m  WARNING: Built wheel for ColabPlugin is invalid: Metadata 1.2 mandates PEP 440 version, but 'blind' is not\u001b[0m\n",
            "Failed to build ColabPlugin\n",
            "Installing collected packages: ColabPlugin\n",
            "    Running setup.py install for ColabPlugin ... \u001b[?25l\u001b[?25hdone\n",
            "\u001b[33m  DEPRECATION: ColabPlugin was installed using the legacy 'setup.py install' method, because a wheel could not be built for it. A possible replacement is to fix the wheel build issue reported above. You can find discussion regarding this at https://github.com/pypa/pip/issues/8368.\u001b[0m\n",
            "Successfully installed ColabPlugin-blind\n",
            "fatal: destination path 'nvcc4jupyter' already exists and is not an empty directory.\n",
            "Thu Apr  7 03:02:56 2022       \n",
            "+-----------------------------------------------------------------------------+\n",
            "| NVIDIA-SMI 460.32.03    Driver Version: 460.32.03    CUDA Version: 11.2     |\n",
            "|-------------------------------+----------------------+----------------------+\n",
            "| GPU  Name        Persistence-M| Bus-Id        Disp.A | Volatile Uncorr. ECC |\n",
            "| Fan  Temp  Perf  Pwr:Usage/Cap|         Memory-Usage | GPU-Util  Compute M. |\n",
            "|                               |                      |               MIG M. |\n",
            "|===============================+======================+======================|\n",
            "|   0  Tesla K80           Off  | 00000000:00:04.0 Off |                    0 |\n",
            "| N/A   35C    P8    28W / 149W |      0MiB / 11441MiB |      0%      Default |\n",
            "|                               |                      |                  N/A |\n",
            "+-------------------------------+----------------------+----------------------+\n",
            "                                                                               \n",
            "+-----------------------------------------------------------------------------+\n",
            "| Processes:                                                                  |\n",
            "|  GPU   GI   CI        PID   Type   Process name                  GPU Memory |\n",
            "|        ID   ID                                                   Usage      |\n",
            "|=============================================================================|\n",
            "|  No running processes found                                                 |\n",
            "+-----------------------------------------------------------------------------+\n"
          ]
        }
      ]
    },
    {
      "cell_type": "markdown",
      "metadata": {
        "id": "OGc4yXnuupHI"
      },
      "source": [
        "No código abaixo é realizada a soma de vetores de tamanho N=1024*1024, do tipo double. Foram realizados 50 testes para cada número de threads, sendo que os números de threads testados foram: 1, 2, 4, 8, 32, 64, 128, 192, 256, 384, 512, 1024."
      ]
    },
    {
      "cell_type": "code",
      "metadata": {
        "id": "Srfmf59QWZUl",
        "colab": {
          "base_uri": "https://localhost:8080/"
        },
        "outputId": "5b8e2d10-f852-47e8-9278-aefa964b0061"
      },
      "source": [
        "%%gpu\n",
        " \n",
        "#include <stdio.h>\n",
        "#include <stdlib.h>\n",
        "\n",
        "#include \"cuda_runtime.h\"\n",
        "#include \"device_launch_parameters.h\"\n",
        "\n",
        "\n",
        "# define N 1024*1024\n",
        " \n",
        "\n",
        "void fill_array(double *data) {\n",
        "\tfor(int idx=0;idx<N;idx++)\n",
        "\t\tdata[idx] = idx;\n",
        "}\n",
        "\n",
        "\n",
        "int verify_output(double *a, double *b, double *c) {\n",
        "\tint ok = 1;\n",
        "\t\n",
        "\tfor (int idx=0;idx<N;idx++)\n",
        "    \tif (a[idx] + b[idx] != c[idx]) ok = 0;\n",
        "\n",
        "\treturn ok;\n",
        "}\n",
        "\n",
        "\n",
        "__global__ void funcGPU(double *A, double *B, double *C){\n",
        "\tint index = threadIdx.x + blockIdx.x * blockDim.x;\n",
        "    C[index] = A[index] + B[index];\n",
        "}\n",
        "\n",
        "\n",
        "int main(){\n",
        "    \n",
        "    unsigned int blk_size[] = {1,2,4,8,32,64,128,192,256,384,512,1024};\n",
        "\n",
        "\tFILE *pFile;\n",
        "\tpFile = fopen(\"valores.txt\", \"w\"); \n",
        "\n",
        "\tdouble *A = (double*) malloc(N*sizeof(double));\n",
        "\tdouble *B = (double*) malloc(N*sizeof(double));\n",
        "\tdouble *C = (double*) malloc(N*sizeof(double));\n",
        "\n",
        "\tfill_array(A);\n",
        "\tfill_array(B);\n",
        "\n",
        "\tdouble *dA, *dB, *dC;\n",
        "\n",
        "\tcudaMalloc(&dA, N*sizeof(double));\n",
        "\tcudaMalloc(&dB, N*sizeof(double));\n",
        "\tcudaMalloc(&dC, N*sizeof(double));\n",
        "\n",
        "\t\n",
        "\tfor(int i=0; i<(sizeof blk_size/sizeof (unsigned int)); i++){\n",
        "\t\tunsigned int nBlocksX = N/blk_size[i];\n",
        "\t\tprintf(\"Numero de Threads: %i\\n\", blk_size[i]);\n",
        "\t\tprintf(\"Numero de Blocos: %i\\n\", nBlocksX);\n",
        "\n",
        "\t\tfloat averageKernel = 0;\n",
        "\t\tfloat averageTotal = 0;\n",
        "\n",
        "\t\tfor (int j=1; j<=50; j++){\n",
        "\t\t\t\t\t\n",
        "\t\t\tfloat timeKernel, timeTotal;\n",
        "\t\t\tcudaEvent_t startKernel, endKernel, startTotal, endTotal; \n",
        "\t\t\tcudaEventCreate(&startKernel);\n",
        "\t\t\tcudaEventCreate(&endKernel);\n",
        "\t\t\tcudaEventCreate(&startTotal);\n",
        "\t\t\tcudaEventCreate(&endTotal);\n",
        "\n",
        "\t\t\tcudaEventRecord(startTotal);\n",
        "\t\t\tcudaMemcpy(dA, A, N*sizeof(double), cudaMemcpyHostToDevice);\n",
        "\t\t\tcudaMemcpy(dB, B, N*sizeof(double), cudaMemcpyHostToDevice);\n",
        "\t\n",
        "\t\t\tcudaEventRecord(startKernel);\n",
        "\t\t\tfuncGPU <<< {nBlocksX,1,1}, {blk_size[i],1,1} >>> (dA, dB, dC);\n",
        "\t\t\tcudaEventRecord(endKernel);\n",
        "\t\t\tcudaEventSynchronize(endKernel);\n",
        "\t\t\tcudaEventElapsedTime(&timeKernel, startKernel, endKernel);\n",
        "\t\t\t\n",
        "\t\t\tcudaMemcpy(C, dC, N*sizeof(double), cudaMemcpyDeviceToHost);\n",
        "\t\t\tcudaEventRecord(endTotal);\n",
        "\t\t\tcudaEventSynchronize(endTotal);\n",
        "\t\t\tcudaEventElapsedTime(&timeTotal, startTotal, endTotal);\n",
        "\n",
        "\t\t\tif (verify_output(A,B,C)){\n",
        "\t\t\t\taverageKernel = (averageKernel*(j-1)+timeKernel)/j;\n",
        "\t\t\t\taverageTotal = (averageTotal*(j-1)+timeTotal)/j;\n",
        "\t\t\t}\n",
        "\t\t\t\n",
        "\t\t\telse {\n",
        "\t\t\t\tj=j-1;\n",
        "\t\t\t\tprintf(\"\\n*** SOMA ERRADA! ***\\n\\n\");\n",
        "\t\t\t}\n",
        "\t\t}\n",
        "\t\t\n",
        "\t\tfloat gopsTotal = (blk_size[i]*nBlocksX)/(averageTotal*1000000);\n",
        "\t\tfloat gopsKernel = (blk_size[i]*nBlocksX)/(averageKernel*1000000);\n",
        "\t\t\n",
        "\t\tprintf(\"Tempo Total: %f ms\\n\", averageTotal);\n",
        "\t\tprintf(\"Tempo Kernel: %f ms\\n\\n\\n\", averageKernel);\n",
        "\t\tfprintf(pFile, \"%i;%f;%f\\n\", blk_size[i], gopsTotal, gopsKernel);\n",
        "\n",
        "\t}\n",
        "\n",
        "\tfclose(pFile);\n",
        "\tfree(A);\n",
        "\tfree(B);\n",
        "\tfree(C);\n",
        "\tcudaFree(dA);\n",
        "\tcudaFree(dB);\n",
        "\tcudaFree(dC);\n",
        "\n",
        "\n",
        "\tpFile = fopen(\"modeloGPU.txt\", \"w\"); \n",
        "\t\n",
        "\tcudaDeviceProp varProp;\n",
        "\tcudaGetDeviceProperties(&varProp,0);\n",
        "\tfprintf(pFile, \"%s\", varProp.name);\n",
        "\tfclose(pFile);\n",
        "\n",
        "\n",
        "\treturn 0;\n",
        "}"
      ],
      "execution_count": 4,
      "outputs": [
        {
          "output_type": "stream",
          "name": "stdout",
          "text": [
            "Numero de Threads: 1\n",
            "Numero de Blocos: 1048576\n",
            "Tempo Total: 8.282736 ms\n",
            "Tempo Kernel: 4.877924 ms\n",
            "\n",
            "\n",
            "Numero de Threads: 2\n",
            "Numero de Blocos: 524288\n",
            "Tempo Total: 5.047175 ms\n",
            "Tempo Kernel: 2.118632 ms\n",
            "\n",
            "\n",
            "Numero de Threads: 4\n",
            "Numero de Blocos: 262144\n",
            "Tempo Total: 4.037344 ms\n",
            "Tempo Kernel: 1.074052 ms\n",
            "\n",
            "\n",
            "Numero de Threads: 8\n",
            "Numero de Blocos: 131072\n",
            "Tempo Total: 3.541886 ms\n",
            "Tempo Kernel: 0.563606 ms\n",
            "\n",
            "\n",
            "Numero de Threads: 32\n",
            "Numero de Blocos: 32768\n",
            "Tempo Total: 3.160849 ms\n",
            "Tempo Kernel: 0.205581 ms\n",
            "\n",
            "\n",
            "Numero de Threads: 64\n",
            "Numero de Blocos: 16384\n",
            "Tempo Total: 3.162593 ms\n",
            "Tempo Kernel: 0.174406 ms\n",
            "\n",
            "\n",
            "Numero de Threads: 128\n",
            "Numero de Blocos: 8192\n",
            "Tempo Total: 3.112486 ms\n",
            "Tempo Kernel: 0.170786 ms\n",
            "\n",
            "\n",
            "Numero de Threads: 192\n",
            "Numero de Blocos: 5461\n",
            "Tempo Total: 3.086461 ms\n",
            "Tempo Kernel: 0.170729 ms\n",
            "\n",
            "\n",
            "Numero de Threads: 256\n",
            "Numero de Blocos: 4096\n",
            "Tempo Total: 3.293385 ms\n",
            "Tempo Kernel: 0.169979 ms\n",
            "\n",
            "\n",
            "Numero de Threads: 384\n",
            "Numero de Blocos: 2730\n",
            "Tempo Total: 3.306940 ms\n",
            "Tempo Kernel: 0.171459 ms\n",
            "\n",
            "\n",
            "Numero de Threads: 512\n",
            "Numero de Blocos: 2048\n",
            "Tempo Total: 3.278520 ms\n",
            "Tempo Kernel: 0.170730 ms\n",
            "\n",
            "\n",
            "Numero de Threads: 1024\n",
            "Numero de Blocos: 1024\n",
            "Tempo Total: 3.314053 ms\n",
            "Tempo Kernel: 0.172355 ms\n",
            "\n",
            "\n",
            "\n"
          ]
        }
      ]
    },
    {
      "cell_type": "code",
      "metadata": {
        "colab": {
          "base_uri": "https://localhost:8080/",
          "height": 907
        },
        "id": "wWElR_AoNNht",
        "outputId": "aeea3410-a33b-44e1-daa3-e0d559611bf7"
      },
      "source": [
        "from matplotlib import pyplot\n",
        "\n",
        "objOpen = open(\"modeloGPU.txt\",\"r\")\n",
        "modelo = objOpen.read()\n",
        "objOpen.close()\n",
        "\n",
        "objOpen = open(\"valores.txt\",\"r\")\n",
        "valores = objOpen.read()\n",
        "objOpen.close()\n",
        "valores = valores.split(\"\\n\")\n",
        "valores = [varFor.split(\";\") for varFor in valores if varFor!='']\n",
        "\n",
        "nThreads = [float(varFor[0]) for varFor in valores]\n",
        "gopsTotal = [float(varFor[1]) for varFor in valores]\n",
        "gopsKernel = [float(varFor[2]) for varFor in valores]\n",
        "\n",
        "\n",
        "pyplot.figure()\n",
        "pyplot.title(\"Gops/s do Kernel\")\n",
        "pyplot.xlabel(\"Nº de Threads\")\n",
        "pyplot.ylabel(\"Gops/s\")\n",
        "pyplot.legend(title=modelo)\n",
        "pyplot.plot(nThreads, gopsKernel)\n",
        "\n",
        "pyplot.figure()\n",
        "pyplot.title(\"Gops/s Total\")\n",
        "pyplot.xlabel(\"Nº de Threads\")\n",
        "pyplot.ylabel(\"Gops/s\")\n",
        "pyplot.legend(title=modelo)\n",
        "pyplot.plot(nThreads, gopsTotal)\n",
        "\n",
        "pyplot.figure()\n",
        "pyplot.title(\"Gops/s do Kernel e Total\")\n",
        "pyplot.xlabel(\"Nº de Threads\")\n",
        "pyplot.ylabel(\"Gops/s\")\n",
        "pyplot.yscale(\"log\")\n",
        "pyplot.xscale(\"log\")\n",
        "pyplot.legend(title=modelo)\n",
        "pyplot.plot(nThreads, gopsKernel)\n",
        "pyplot.plot(nThreads, gopsTotal)\n",
        "pyplot.show()"
      ],
      "execution_count": 5,
      "outputs": [
        {
          "output_type": "stream",
          "name": "stderr",
          "text": [
            "No handles with labels found to put in legend.\n",
            "No handles with labels found to put in legend.\n",
            "No handles with labels found to put in legend.\n"
          ]
        },
        {
          "output_type": "display_data",
          "data": {
            "text/plain": [
              "<Figure size 432x288 with 1 Axes>"
            ],
            "image/png": "[encoded data removed]"
          },
          "metadata": {
            "needs_background": "light"
          }
        },
        {
          "output_type": "display_data",
          "data": {
            "text/plain": [
              "<Figure size 432x288 with 1 Axes>"
            ],
            "image/png": "[encoded data removed]"
          },
          "metadata": {
            "needs_background": "light"
          }
        },
        {
          "output_type": "display_data",
          "data": {
            "text/plain": [
              "<Figure size 432x288 with 1 Axes>"
            ],
            "image/png": "[encoded data removed]"
          },
          "metadata": {
            "needs_background": "light"
          }
        }
      ]
    }
  ]
}